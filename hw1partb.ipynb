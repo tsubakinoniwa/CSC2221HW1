{
 "cells": [
  {
   "cell_type": "markdown",
   "metadata": {},
   "source": [
    "# Homework 1 Part (b) Simulation"
   ]
  },
  {
   "cell_type": "code",
   "execution_count": 220,
   "metadata": {},
   "outputs": [],
   "source": [
    "import random\n",
    "# from tqdm.notebook import trange, tqdm\n",
    "import matplotlib.pyplot as plt\n",
    "import numpy as np\n",
    "from math import log, floor\n",
    "from functools import reduce\n",
    "from time import sleep\n",
    "from collections import defaultdict\n",
    "from enum import Enum"
   ]
  },
  {
   "cell_type": "code",
   "execution_count": 221,
   "metadata": {},
   "outputs": [],
   "source": [
    "class TSType(Enum):\n",
    "    TERM_TC = 1\n",
    "    TERM_MIS = 2\n",
    "    CONFLICT = 3\n",
    "\n",
    "\n",
    "class TS():\n",
    "    def __init__(self, sender, sig):\n",
    "        self.sender = sender\n",
    "        self.sig = sig\n",
    "\n",
    "\n",
    "class Msg():\n",
    "    def __init__(self, sender, body):\n",
    "        self.sender = sender\n",
    "        self.body = body\n",
    "        \n",
    "    def __str__(self):\n",
    "        return f'From {self.sender}: {self.body}'"
   ]
  },
  {
   "cell_type": "code",
   "execution_count": 222,
   "metadata": {},
   "outputs": [],
   "source": [
    "class Sim:\n",
    "    # Simulates the algorithm for unknown M\n",
    "    \n",
    "    def __init__(self, N=None, M=None, ring=None):\n",
    "        if N: self.N = N\n",
    "        self.finished = False\n",
    "        self.valid = True\n",
    "        \n",
    "        if not ring:\n",
    "            self.ring = [-1] * N\n",
    "            for i in range(N):\n",
    "                l_nbr, r_nbr = self.ring[(i-1)%N], self.ring[(i+1)%N]\n",
    "                val = random.randint(0, M)\n",
    "                while val in [l_nbr, r_nbr]:\n",
    "                    val = random.randint(0, M)\n",
    "                self.ring[i] = val\n",
    "        else:\n",
    "            self.ring = ring\n",
    "            self.N = len(ring)\n",
    "            \n",
    "        self.term = [False] * self.N\n",
    "        self.inbufs = [[] for _ in range(self.N)]\n",
    "        self.vars = [{} for _ in range(self.N)]\n",
    "        \n",
    "        # Initialize local variables\n",
    "        for i in range(self.N):\n",
    "            self.vars[i]['ci'] = self.ring[i]\n",
    "            self.vars[i]['cL'] = self.ring[(i-1)%self.N]\n",
    "            self.vars[i]['cR'] = self.ring[(i+1)%self.N]\n",
    "            self.vars[i]['Ti'] = False\n",
    "            self.vars[i]['TTC'] = False\n",
    "            self.vars[i]['TTCL'] = False\n",
    "            self.vars[i]['TTCR'] = False\n",
    "            self.vars[i]['TMIS'] = False\n",
    "            self.vars[i]['TMISL'] = False\n",
    "            self.vars[i]['TMISR'] = False\n",
    "            self.vars[i]['Pi'] = -1\n",
    "            self.vars[i]['PL'] = -1\n",
    "            self.vars[i]['PR'] = -1\n",
    "            self.vars[i]['Ai'] = ''\n",
    "            self.vars[i]['AL'] = ''\n",
    "            self.vars[i]['AR'] = ''\n",
    "            self.vars[i]['piL'] = (i-1)%self.N\n",
    "            self.vars[i]['piR'] = (i+1)%self.N\n",
    "        \n",
    "        self.generators = [None] * self.N\n",
    "        for i in range(self.N):\n",
    "            self.generators[i] = self.compute_node(i)\n",
    "        self.rounds = 0\n",
    "    \n",
    "    \n",
    "    def verify_color(self):\n",
    "        for i in range(self.N):\n",
    "            Li, Ri = self.ring[(i-1)%self.N], self.ring[(i+1)%self.N]\n",
    "            ci = self.ring[i]\n",
    "            if Li == ci or Ri == ci:\n",
    "                self.valid = False\n",
    "                return False\n",
    "        \n",
    "        self.valid = True\n",
    "        return True\n",
    "    \n",
    "    \n",
    "    def verify_MIS(self):\n",
    "        for i in range(self.N):\n",
    "            Li, Ri = self.ring[(i-1)%self.N], self.ring[(i+1)%self.N]\n",
    "            ci = self.ring[i]\n",
    "            if 0 not in {ci, Li, Ri}:\n",
    "                self.valid = False\n",
    "                return False\n",
    "        \n",
    "        self.valid = True\n",
    "        return True\n",
    "    \n",
    "    \n",
    "    def print_ring(self):\n",
    "        suffix = ''\n",
    "        if self.finished:\n",
    "            suffix += ' (FINISHED)'\n",
    "        if not self.valid:\n",
    "            suffix += ' (INVALID!)'\n",
    "        print(f'{self.ring}{suffix}')\n",
    "    \n",
    "    \n",
    "    def rnd(self, verbose=False, steps=8):\n",
    "        for rep in range(steps):\n",
    "#             for g, term in zip(self.generators, self.term):\n",
    "            for i in range(len(self.term)):\n",
    "                if not self.term[i]: \n",
    "#                     print('Node', i, self.term[i])\n",
    "#                     next(self.generators[i], None)\n",
    "                    next(self.generators[i])\n",
    "        \n",
    "        self.rounds += 4\n",
    "        self.verify_color()\n",
    "        self.finished = reduce(lambda x,y : x and y, self.term, True)\n",
    "        if verbose:\n",
    "            self.print_ring()\n",
    "        \n",
    "    \n",
    "    def getv(self, i, var):\n",
    "        return self.vars[i][var]\n",
    "    \n",
    "    \n",
    "    def setv(self, i, var, val):\n",
    "        self.vars[i][var] = val\n",
    "    \n",
    "    \n",
    "    def compute_node(self, i):\n",
    "        comp = self.three_colour(i)\n",
    "        for s in range(8):\n",
    "            next(comp)\n",
    "            yield\n",
    "        \n",
    "        while self.getv(i, 'Ti') == False:\n",
    "            if self.getv(i, 'ci') > 2:\n",
    "#                 print('Node', i, 'running 3 colour')\n",
    "                comp = self.three_colour(i)\n",
    "                for s in range(8):\n",
    "                    next(comp)\n",
    "                    yield\n",
    "            elif self.getv(i, 'TTCL') == False or self.getv(i, 'TTCR') == False:\n",
    "#                 print('Node', i, 'waiting TC')\n",
    "                comp = self.wait(i, 'TC')\n",
    "                for s in range(8):\n",
    "                    next(comp)\n",
    "                    yield\n",
    "            elif self.getv(i, 'TMIS') == False:\n",
    "#                 print('Node', i, 'running MIS stage 1')\n",
    "                comp = self.mis_stage(i, 1)\n",
    "                for s in range(8):\n",
    "                    next(comp)\n",
    "                    yield\n",
    "            elif self.getv(i, 'TMISL') == False or self.getv(i, 'TMISR') == False:\n",
    "#                 print('Node', i, 'waiting TMIS')\n",
    "                comp = self.wait(i, 'TMIS')\n",
    "                for s in range(8):\n",
    "                    next(comp)\n",
    "                    yield\n",
    "            else:\n",
    "#                 print('Node', i, 'running MIS stage 2')\n",
    "                comp = self.mis_stage(i, 2)\n",
    "                for s in range(8):\n",
    "                    next(comp)\n",
    "                    yield\n",
    "#                 print('Node', i, 'out')\n",
    "    \n",
    "    \n",
    "    def three_colour(self, i):\n",
    "        for t in self.inbufs[i]:\n",
    "            if t.sender == self.getv(i, 'piL') and t.sig == TSType.TERM_TC:\n",
    "                self.setv(i, 'TTCL', True)\n",
    "            if t.sender == self.getv(i, 'piR') and t.sig == TSType.TERM_TC:\n",
    "                self.setv(i, 'TTCR', True)\n",
    "        self.inbufs[i].clear()\n",
    "        yield\n",
    "\n",
    "        self.inbufs[self.getv(i, 'piL')].append(Msg(i, self.getv(i, 'ci')))\n",
    "        self.inbufs[self.getv(i, 'piR')].append(Msg(i, self.getv(i, 'ci')))\n",
    "        yield\n",
    "#             if i == 0:\n",
    "#                 for m in self.inbufs[i]:\n",
    "#                     print(m)\n",
    "        for m in self.inbufs[i]:\n",
    "            if m.sender == self.getv(i, 'piL'):\n",
    "                self.setv(i, 'cL', int(m.body))\n",
    "            if m.sender == self.getv(i, 'piR'):\n",
    "                self.setv(i, 'cR', int(m.body))\n",
    "        self.inbufs[i].clear()\n",
    "        yield\n",
    "\n",
    "#             print('Node', i, f'ci:{self.getv(i, \"ci\")}', f'cL:{self.getv(i, \"cL\")}', f'cR:{self.getv(i, \"cR\")}')\n",
    "\n",
    "        for var, cc in zip(['Ai', 'AL', 'AR'], ['ci', 'cL', 'cR']):\n",
    "            self.setv(i, var, Sim.getAction(self.getv(i, cc)))\n",
    "\n",
    "        if self.getv(i, 'Ai') == 'LM' and 'BIT' in {self.getv(i, 'AL'), self.getv(i, 'AR')}:\n",
    "            self.setv(i, 'Ai', 'HOLD')\n",
    "\n",
    "        if self.getv(i, 'Ai') == 'HOLD':\n",
    "            self.setv(i, 'Pi', self.getv(i, 'ci'))\n",
    "        elif self.getv(i, 'Ai') == 'LM':\n",
    "            if self.getv(i, 'ci') > max(self.getv(i, 'cL'), self.getv(i, 'cR')):\n",
    "                self.setv(i, 'Pi', min({0, 1, 2}.difference({self.getv(i, 'cL'), self.getv(i, 'cR')})))\n",
    "            else:\n",
    "                self.setv(i, 'Pi', self.getv(i, 'ci'))\n",
    "        else:\n",
    "            if self.getv(i, 'AL') in {'HOLD', 'LM'} and self.getv(i, 'AR') == {'HOLD', 'LM'}:  # changed here\n",
    "                self.setv(i, 'Pi', min({0, 1, 2}.difference({self.getv(i, 'cL'), self.getv(i, 'cR')})))\n",
    "            else:\n",
    "                d = 0\n",
    "                ci = self.getv(i, 'ci')\n",
    "                Ri = self.getv(i, 'cR')\n",
    "#                     print('Node', i, ci, Ri)\n",
    "                while (ci&(1<<d)) == (Ri&(1<<d)):\n",
    "                    d += 1\n",
    "                self.setv(i, 'Pi', 2*d + ((ci&(1<<d))>>d))\n",
    "\n",
    "        self.inbufs[self.getv(i, 'piL')].append(Msg(i, self.getv(i, 'Pi')))\n",
    "        self.inbufs[self.getv(i, 'piR')].append(Msg(i, self.getv(i, 'Pi')))\n",
    "        yield\n",
    "\n",
    "        self.setv(i, 'PL', self.getv(i, 'cL'))\n",
    "        self.setv(i, 'PR', self.getv(i, 'cR'))\n",
    "        for m in self.inbufs[i]:\n",
    "            if m.sender == self.getv(i, 'piL'):\n",
    "                self.setv(i, 'PL', int(m.body))\n",
    "            if m.sender == self.getv(i, 'piR'):\n",
    "                self.setv(i, 'PR', int(m.body))\n",
    "        self.inbufs[i].clear()\n",
    "        yield\n",
    "\n",
    "        confL, confR = False, False\n",
    "        if self.getv(i, 'Ai') == 'BIT':\n",
    "            confL = self.getv(i, 'Pi') == self.getv(i, 'PL')\n",
    "            confR = self.getv(i, 'Pi') == self.getv(i, 'PR')\n",
    "        if confL and confR:\n",
    "            self.setv(i, 'Pi', min({0, 1, 2}.difference({self.getv(i, 'PL'), self.getv(i, 'PR')})))\n",
    "            confL, confR = False, False\n",
    "        elif not confL and not confR:\n",
    "            pass\n",
    "        elif confL:\n",
    "            self.inbufs[self.getv(i, 'piR')].append(Msg(i, 'CONFLICT'))\n",
    "        else:\n",
    "            self.inbufs[self.getv(i, 'piL')].append(Msg(i, 'CONFLICT'))\n",
    "        yield\n",
    "\n",
    "        neighborConf = False\n",
    "        if confL or confR:\n",
    "            if len(self.inbufs[i]):\n",
    "                neighborConf = True\n",
    "        self.inbufs[i].clear()\n",
    "        yield\n",
    "\n",
    "        if neighborConf:\n",
    "#                 print('neighborConf')\n",
    "            if confR:\n",
    "                self.setv(i, 'Pi', self.getv(i, 'PL'))\n",
    "            else:\n",
    "                self.setv(i, 'Pi', self.getv(i, 'PR'))\n",
    "        elif (confL or confR):\n",
    "            self.setv(i, 'Pi', min({0, 1, 2}.difference({self.getv(i, 'PL'), self.getv(i, 'PR')})))\n",
    "        else:\n",
    "            pass  # No fix\n",
    "\n",
    "\n",
    "#             if self.getv(i, 'Ai') == 'BIT' and self.getv(i, 'Pi') in {self.getv(i, 'PL'), self.getv(i, 'PR')}:\n",
    "# #                 print('Correcting node', i, self.getv(i, 'Pi'), '->', end=' ')\n",
    "#                 self.setv(i, 'Pi', min({0, 1, 2}.difference({self.getv(i, 'PL'), self.getv(i, 'PR')})))\n",
    "# #                 print(self.getv(i, 'Pi'))\n",
    "        self.setv(i, 'ci', self.getv(i, 'Pi'))\n",
    "        self.ring[i] = self.getv(i, 'ci')\n",
    "        \n",
    "        if self.getv(i, 'ci') <= 2:\n",
    "            self.inbufs[self.getv(i, 'piL')].append(TS(i, TSType.TERM_TC))\n",
    "            self.inbufs[self.getv(i, 'piR')].append(TS(i, TSType.TERM_TC))\n",
    "            self.setv(i, 'TTC', True)\n",
    "        yield\n",
    "            \n",
    "    \n",
    "    def mis_stage(self, i, s):\n",
    "        self.inbufs[i].clear()\n",
    "        yield\n",
    "        \n",
    "        self.inbufs[self.getv(i, 'piL')].append(Msg(i, self.getv(i, 'ci')))\n",
    "        self.inbufs[self.getv(i, 'piR')].append(Msg(i, self.getv(i, 'ci')))\n",
    "        yield\n",
    "        \n",
    "        for m in self.inbufs[i]:\n",
    "            if m.sender == self.getv(i, 'piL'):\n",
    "                self.setv(i, 'cL', int(m.body))\n",
    "            if m.sender == self.getv(i, 'piR'):\n",
    "                self.setv(i, 'cR', int(m.body))\n",
    "        self.inbufs[i].clear()\n",
    "        yield\n",
    "        \n",
    "        if self.getv(i, 'ci') == 0:\n",
    "            pass\n",
    "        elif s == 1 and self.getv(i, 'ci') == 1 and 0 not in {self.getv(i, 'cL'), self.getv(i, 'cR')}:\n",
    "            self.setv(i, 'ci', 0)\n",
    "            self.ring[i] = 0\n",
    "        elif s == 2 and self.getv(i, 'ci') == 2 and 0 not in {self.getv(i, 'cL'), self.getv(i, 'cR')}:\n",
    "            self.setv(i, 'ci', 0)\n",
    "            self.ring[i] = 0\n",
    "        \n",
    "        yield\n",
    "        \n",
    "        self.inbufs[i].clear()\n",
    "        yield\n",
    "        \n",
    "        yield\n",
    "        \n",
    "        self.inbufs[i].clear()\n",
    "        yield\n",
    "        \n",
    "        if s == 1:\n",
    "            self.inbufs[self.getv(i, 'piL')].append(TS(i, TSType.TERM_MIS))\n",
    "            self.inbufs[self.getv(i, 'piR')].append(TS(i, TSType.TERM_MIS))\n",
    "            self.setv(i, 'TMIS', True)\n",
    "        else:\n",
    "            self.setv(i, 'Ti', True)\n",
    "            self.term[i] = True\n",
    "        yield\n",
    "        \n",
    "    \n",
    "    def wait(self, i, tt):\n",
    "        for t in self.inbufs[i]:\n",
    "            if t.sender == self.getv(i, 'piL'):\n",
    "                if t.sig == TSType.TERM_TC:\n",
    "                    self.setv(i, 'TTCL', True)\n",
    "                elif t.sig == TSType.TERM_MIS:\n",
    "                    self.setv(i, 'TMISL', True)\n",
    "            if t.sender == self.getv(i, 'piR'):\n",
    "                if t.sig == TSType.TERM_TC:\n",
    "                    self.setv(i, 'TTCR', True)\n",
    "                elif t.sig == TSType.TERM_MIS:\n",
    "                    self.setv(i, 'TMISR', True)\n",
    "        self.inbufs[i].clear()\n",
    "        yield\n",
    "        \n",
    "        self.inbufs[self.getv(i, 'piL')].append(Msg(i, self.getv(i, 'ci')))\n",
    "        self.inbufs[self.getv(i, 'piR')].append(Msg(i, self.getv(i, 'ci')))\n",
    "        yield\n",
    "        \n",
    "        for m in self.inbufs[i]:\n",
    "            if m.sender == self.getv(i, 'piL'):\n",
    "                self.setv(i, 'cL', int(m.body))\n",
    "            if m.sender == self.getv(i, 'piR'):\n",
    "                self.setv(i, 'cR', int(m.body))\n",
    "        self.inbufs[i].clear()\n",
    "        yield\n",
    "        \n",
    "        yield\n",
    "        \n",
    "        self.inbufs[i].clear()\n",
    "        yield\n",
    "        \n",
    "        yield\n",
    "        \n",
    "        self.inbufs[i].clear()\n",
    "        yield\n",
    "        \n",
    "        if tt == 'TC':\n",
    "            sig = TSType.TERM_TC\n",
    "        else:\n",
    "            sig = TSType.TERM_MIS\n",
    "        self.inbufs[self.getv(i, 'piL')].append(TS(i, sig))\n",
    "        self.inbufs[self.getv(i, 'piR')].append(TS(i, sig))\n",
    "        yield\n",
    "    \n",
    "    \n",
    "    def getAction(c):\n",
    "        if c <= 2:\n",
    "            return 'HOLD'\n",
    "        elif c <= 5:\n",
    "            return 'LM'\n",
    "        else:\n",
    "            return 'BIT'\n",
    "    \n",
    "    \n",
    "    def sim(self, verbose=True):\n",
    "        if verbose:\n",
    "            self.print_ring()\n",
    "        \n",
    "        while self.valid and not self.finished:\n",
    "            self.rnd(verbose)\n",
    "        \n",
    "        if self.valid:\n",
    "            self.valid = self.verify_MIS()\n",
    "        return self.valid"
   ]
  },
  {
   "cell_type": "code",
   "execution_count": 234,
   "metadata": {},
   "outputs": [],
   "source": [
    "def experiment(M):\n",
    "    reps = 1000\n",
    "    ring_size = 100\n",
    "    rounds = []\n",
    "\n",
    "    for rep in range(reps):\n",
    "        sim = Sim(N=ring_size, M=M)\n",
    "        if not sim.sim(verbose=False):\n",
    "            print('Failed')\n",
    "            break\n",
    "        rounds.append(sim.rounds)\n",
    "    \n",
    "    return (np.average(rounds), np.std(rounds))"
   ]
  },
  {
   "cell_type": "code",
   "execution_count": 235,
   "metadata": {},
   "outputs": [],
   "source": [
    "Ms = [1<<12, 1<<16, 1<<64, 1<<256, 1<<(1<<16)]\n",
    "\n",
    "data = np.zeros((len(Ms), 2))\n",
    "for i, M in enumerate(Ms):\n",
    "    data[i] = experiment(M)"
   ]
  },
  {
   "cell_type": "code",
   "execution_count": 236,
   "metadata": {},
   "outputs": [
    {
     "data": {
      "text/plain": [
       "array([[32.624     ,  2.11533071],\n",
       "       [32.608     ,  1.94687853],\n",
       "       [32.664     ,  2.09549612],\n",
       "       [32.696     ,  2.07739837],\n",
       "       [32.74      ,  1.97898964]])"
      ]
     },
     "execution_count": 236,
     "metadata": {},
     "output_type": "execute_result"
    }
   ],
   "source": [
    "data"
   ]
  },
  {
   "cell_type": "code",
   "execution_count": 249,
   "metadata": {},
   "outputs": [
    {
     "data": {
      "text/plain": [
       "<ErrorbarContainer object of 3 artists>"
      ]
     },
     "execution_count": 249,
     "metadata": {},
     "output_type": "execute_result"
    },
    {
     "data": {
      "image/png": "[encoded data removed]",
      "text/plain": [
       "<Figure size 432x288 with 1 Axes>"
      ]
     },
     "metadata": {
      "needs_background": "light"
     },
     "output_type": "display_data"
    }
   ],
   "source": [
    "plt.errorbar(x=range(5), y=data[:, 0], yerr=data[:, 1])"
   ]
  },
  {
   "cell_type": "markdown",
   "metadata": {},
   "source": [
    "## Junk Yard"
   ]
  },
  {
   "cell_type": "code",
   "execution_count": null,
   "metadata": {},
   "outputs": [],
   "source": [
    "sim = Sim(ring=ring.copy())\n",
    "sim.print_ring()\n",
    "# print(sim.vars[0])\n",
    "for _ in range(10):\n",
    "    sim.rnd(True)\n",
    "#     for node in [0, -1]:\n",
    "#         print('Node', node, 'variables:')\n",
    "#         for i, var in enumerate(['TTC', 'TTCL', 'TTCR', 'TMIS', 'TMISL', 'TMISR', 'Ti']):\n",
    "#             print(f'\\t{var}: {sim.vars[node][var]}', end='')\n",
    "#             if (i+1) % 3 == 0:\n",
    "#                 print('')\n",
    "#         print('')\n",
    "#     print(sim.vars[0])\n",
    "#     print(sim.vars[-1])"
   ]
  }
 ],
 "metadata": {
  "kernelspec": {
   "display_name": "Python 3",
   "language": "python",
   "name": "python3"
  },
  "language_info": {
   "codemirror_mode": {
    "name": "ipython",
    "version": 3
   },
   "file_extension": ".py",
   "mimetype": "text/x-python",
   "name": "python",
   "nbconvert_exporter": "python",
   "pygments_lexer": "ipython3",
   "version": "3.7.4"
  },
  "widgets": {
   "application/vnd.jupyter.widget-state+json": {
    "state": {
     "026833ebc3d847e18fda2641adee099d": {
      "model_module": "@jupyter-widgets/base",
      "model_module_version": "1.2.0",
      "model_name": "LayoutModel",
      "state": {}
     },
     "02f15238e894471792a0a19595bad5e3": {
      "model_module": "@jupyter-widgets/controls",
      "model_module_version": "1.5.0",
      "model_name": "HBoxModel",
      "state": {
       "children": [
        "IPY_MODEL_c5f117cc93314abc8475fe347e4fc490",
        "IPY_MODEL_b426a43cb52941d6aaf189e1098dd6bc"
       ],
       "layout": "IPY_MODEL_33f6eabb819b4fdb9eb4d539dd380ec5"
      }
     },
     "04cccc1dda7e40c681ba2279c4e83124": {
      "model_module": "@jupyter-widgets/base",
      "model_module_version": "1.2.0",
      "model_name": "LayoutModel",
      "state": {}
     },
     "04d67f4120444b6192533ef7725b17fe": {
      "model_module": "@jupyter-widgets/controls",
      "model_module_version": "1.5.0",
      "model_name": "ProgressStyleModel",
      "state": {
       "description_width": "initial"
      }
     },
     "0573fc104ad0468ebfd2688995663cbe": {
      "model_module": "@jupyter-widgets/controls",
      "model_module_version": "1.5.0",
      "model_name": "DescriptionStyleModel",
      "state": {
       "description_width": ""
      }
     },
     "0730831d78d942a596123873c983ce3a": {
      "model_module": "@jupyter-widgets/controls",
      "model_module_version": "1.5.0",
      "model_name": "HBoxModel",
      "state": {
       "children": [
        "IPY_MODEL_1c2125cae8194fd0aa131df7fbdd2923",
        "IPY_MODEL_440454a33666498e934963183891cc76"
       ],
       "layout": "IPY_MODEL_e3558b03dc38444eabe481e850311499"
      }
     },
     "087dee775d434d03b2cd68e3c910f66c": {
      "model_module": "@jupyter-widgets/base",
      "model_module_version": "1.2.0",
      "model_name": "LayoutModel",
      "state": {}
     },
     "0afca4cbd044451e8217802cca0fd963": {
      "model_module": "@jupyter-widgets/controls",
      "model_module_version": "1.5.0",
      "model_name": "HBoxModel",
      "state": {
       "children": [
        "IPY_MODEL_4588730875074491b556322080c241b6",
        "IPY_MODEL_c1800ea3c67347a087d7aa5cc3d0243d"
       ],
       "layout": "IPY_MODEL_8a0739d910c04240b7d21cd5ef3e2090"
      }
     },
     "0b180aba30ff481cb3ba8d74b9beff74": {
      "model_module": "@jupyter-widgets/base",
      "model_module_version": "1.2.0",
      "model_name": "LayoutModel",
      "state": {}
     },
     "0d3ee585ef324177b08bc741fcc3e0c9": {
      "model_module": "@jupyter-widgets/base",
      "model_module_version": "1.2.0",
      "model_name": "LayoutModel",
      "state": {}
     },
     "0eacf3f8ca7c41a1a8e014e0b72dcf7f": {
      "model_module": "@jupyter-widgets/base",
      "model_module_version": "1.2.0",
      "model_name": "LayoutModel",
      "state": {}
     },
     "109a9fe17e2143119903168ce89dd168": {
      "model_module": "@jupyter-widgets/controls",
      "model_module_version": "1.5.0",
      "model_name": "DescriptionStyleModel",
      "state": {
       "description_width": ""
      }
     },
     "1120b36d5a17400f9a9071836ccd3e9a": {
      "model_module": "@jupyter-widgets/base",
      "model_module_version": "1.2.0",
      "model_name": "LayoutModel",
      "state": {}
     },
     "1323fd1929b84a439e8cae43b147e2c2": {
      "model_module": "@jupyter-widgets/base",
      "model_module_version": "1.2.0",
      "model_name": "LayoutModel",
      "state": {}
     },
     "136cc89780a94512a0aa27524f29f95c": {
      "model_module": "@jupyter-widgets/controls",
      "model_module_version": "1.5.0",
      "model_name": "DescriptionStyleModel",
      "state": {
       "description_width": ""
      }
     },
     "147620c2988d47968e8c2e5a55d0a09c": {
      "model_module": "@jupyter-widgets/controls",
      "model_module_version": "1.5.0",
      "model_name": "DescriptionStyleModel",
      "state": {
       "description_width": ""
      }
     },
     "147955576a304045baa4140f2f8e7dc7": {
      "model_module": "@jupyter-widgets/base",
      "model_module_version": "1.2.0",
      "model_name": "LayoutModel",
      "state": {}
     },
     "15d310ec7a48488f8a4f54877d137e0d": {
      "model_module": "@jupyter-widgets/base",
      "model_module_version": "1.2.0",
      "model_name": "LayoutModel",
      "state": {}
     },
     "1636027720d14c7d81472cea910597c3": {
      "model_module": "@jupyter-widgets/controls",
      "model_module_version": "1.5.0",
      "model_name": "ProgressStyleModel",
      "state": {
       "description_width": "initial"
      }
     },
     "163ddf4a021e4401ac53a805deb69132": {
      "model_module": "@jupyter-widgets/controls",
      "model_module_version": "1.5.0",
      "model_name": "FloatProgressModel",
      "state": {
       "bar_style": "success",
       "description": "100%",
       "layout": "IPY_MODEL_1323fd1929b84a439e8cae43b147e2c2",
       "max": 1000,
       "style": "IPY_MODEL_e831021d0cf44fe78338212b4b182d48",
       "value": 1000
      }
     },
     "177931247217492484eab074d3cec462": {
      "model_module": "@jupyter-widgets/controls",
      "model_module_version": "1.5.0",
      "model_name": "FloatProgressModel",
      "state": {
       "bar_style": "success",
       "description": "100%",
       "layout": "IPY_MODEL_0b180aba30ff481cb3ba8d74b9beff74",
       "max": 1000,
       "style": "IPY_MODEL_e71e08e804ad4c029e5590e55badbe3f",
       "value": 1000
      }
     },
     "1c2125cae8194fd0aa131df7fbdd2923": {
      "model_module": "@jupyter-widgets/controls",
      "model_module_version": "1.5.0",
      "model_name": "FloatProgressModel",
      "state": {
       "bar_style": "success",
       "description": "100%",
       "layout": "IPY_MODEL_fc62ae28ae764ebaa39d3ec5dad6ba75",
       "max": 1000,
       "style": "IPY_MODEL_b759dd1b7f2646e99e9a5e6870b8ed6b",
       "value": 1000
      }
     },
     "1ef0303c57df4d54ab2bbda8beafb2e5": {
      "model_module": "@jupyter-widgets/controls",
      "model_module_version": "1.5.0",
      "model_name": "DescriptionStyleModel",
      "state": {
       "description_width": ""
      }
     },
     "1fcf006501074ef7b4124192b3e436b1": {
      "model_module": "@jupyter-widgets/controls",
      "model_module_version": "1.5.0",
      "model_name": "HTMLModel",
      "state": {
       "layout": "IPY_MODEL_cb775a2e3e7a474e947206361dcf6e80",
       "style": "IPY_MODEL_2ddf26c6caed4bf898b523f09e5d91df",
       "value": " 1000/1000 [00:10&lt;00:00, 94.32it/s]"
      }
     },
     "2704ad8d38234c14922b5226d832dff2": {
      "model_module": "@jupyter-widgets/controls",
      "model_module_version": "1.5.0",
      "model_name": "ProgressStyleModel",
      "state": {
       "description_width": "initial"
      }
     },
     "2ddf26c6caed4bf898b523f09e5d91df": {
      "model_module": "@jupyter-widgets/controls",
      "model_module_version": "1.5.0",
      "model_name": "DescriptionStyleModel",
      "state": {
       "description_width": ""
      }
     },
     "2fcf770aa06b47c3a4da31e7e808ae79": {
      "model_module": "@jupyter-widgets/controls",
      "model_module_version": "1.5.0",
      "model_name": "FloatProgressModel",
      "state": {
       "bar_style": "success",
       "description": "100%",
       "layout": "IPY_MODEL_d08ff2f4f65f455c9afb22e45d77c6a2",
       "max": 1000,
       "style": "IPY_MODEL_35dd51c59dbc41a9a63b1bf90c6f8a9d",
       "value": 1000
      }
     },
     "30a817e4500341c3942e71866057d668": {
      "model_module": "@jupyter-widgets/controls",
      "model_module_version": "1.5.0",
      "model_name": "HBoxModel",
      "state": {
       "children": [
        "IPY_MODEL_8f43665f70fc4615b75be9241b6180f6",
        "IPY_MODEL_c6d2cc7117774af6be5c11bf3f4e3ee4"
       ],
       "layout": "IPY_MODEL_8e5415086c37460888c61eda643bb468"
      }
     },
     "31805cd1779e4d01997a140b671344f5": {
      "model_module": "@jupyter-widgets/base",
      "model_module_version": "1.2.0",
      "model_name": "LayoutModel",
      "state": {}
     },
     "33f6eabb819b4fdb9eb4d539dd380ec5": {
      "model_module": "@jupyter-widgets/base",
      "model_module_version": "1.2.0",
      "model_name": "LayoutModel",
      "state": {}
     },
     "35d024bf79dd4919a17d343916a839b9": {
      "model_module": "@jupyter-widgets/controls",
      "model_module_version": "1.5.0",
      "model_name": "HBoxModel",
      "state": {
       "children": [
        "IPY_MODEL_6f5a2da928854593a291c791bf6a1a27",
        "IPY_MODEL_57581dcb1e2949919c09901bd89c7d41"
       ],
       "layout": "IPY_MODEL_f13d63203bdc46e8a583ec04e820eb69"
      }
     },
     "35dd51c59dbc41a9a63b1bf90c6f8a9d": {
      "model_module": "@jupyter-widgets/controls",
      "model_module_version": "1.5.0",
      "model_name": "ProgressStyleModel",
      "state": {
       "description_width": "initial"
      }
     },
     "365eabf302a04abaaf38678b8c1a82fc": {
      "model_module": "@jupyter-widgets/base",
      "model_module_version": "1.2.0",
      "model_name": "LayoutModel",
      "state": {}
     },
     "3757c16d3b1a4c1d9e7a45057069b7e1": {
      "model_module": "@jupyter-widgets/base",
      "model_module_version": "1.2.0",
      "model_name": "LayoutModel",
      "state": {}
     },
     "37b50fec1e0e412f94df90027f00d90d": {
      "model_module": "@jupyter-widgets/controls",
      "model_module_version": "1.5.0",
      "model_name": "HBoxModel",
      "state": {
       "children": [
        "IPY_MODEL_b822f10174e0438b8be173cb1e50d0a4",
        "IPY_MODEL_bd097c2a95224bb7a21f7c4b81292736"
       ],
       "layout": "IPY_MODEL_04cccc1dda7e40c681ba2279c4e83124"
      }
     },
     "390a51fd05ef46ebaaa266a53f962220": {
      "model_module": "@jupyter-widgets/controls",
      "model_module_version": "1.5.0",
      "model_name": "DescriptionStyleModel",
      "state": {
       "description_width": ""
      }
     },
     "3c249d19fde54931b7b232397b58fda5": {
      "model_module": "@jupyter-widgets/controls",
      "model_module_version": "1.5.0",
      "model_name": "HTMLModel",
      "state": {
       "layout": "IPY_MODEL_f48480c7fd5644bc81d4ecfc53eb4286",
       "style": "IPY_MODEL_0573fc104ad0468ebfd2688995663cbe",
       "value": " 1000/1000 [02:15&lt;00:00,  7.40it/s]"
      }
     },
     "3ddcc68e1b064d088de6231b7f0a19fc": {
      "model_module": "@jupyter-widgets/controls",
      "model_module_version": "1.5.0",
      "model_name": "ProgressStyleModel",
      "state": {
       "description_width": "initial"
      }
     },
     "3efd75ef53514763b34b9003b0d39317": {
      "model_module": "@jupyter-widgets/controls",
      "model_module_version": "1.5.0",
      "model_name": "ProgressStyleModel",
      "state": {
       "description_width": "initial"
      }
     },
     "3fa780be90da477d881250066dd97dd4": {
      "model_module": "@jupyter-widgets/controls",
      "model_module_version": "1.5.0",
      "model_name": "HBoxModel",
      "state": {
       "children": [
        "IPY_MODEL_9a32ed68554d49c79d02a56fe12673c0",
        "IPY_MODEL_84c488adf8484fa7a5822440dff2e5cc"
       ],
       "layout": "IPY_MODEL_d952ea49328a4bc99e7acf9f2751151e"
      }
     },
     "43295af3355b4e89b1e891c3a628f2f7": {
      "model_module": "@jupyter-widgets/controls",
      "model_module_version": "1.5.0",
      "model_name": "HTMLModel",
      "state": {
       "layout": "IPY_MODEL_d69002e94f394d19a5caa654ab10a848",
       "style": "IPY_MODEL_109a9fe17e2143119903168ce89dd168",
       "value": " 1000/1000 [00:05&lt;00:00, 188.43it/s]"
      }
     },
     "440454a33666498e934963183891cc76": {
      "model_module": "@jupyter-widgets/controls",
      "model_module_version": "1.5.0",
      "model_name": "HTMLModel",
      "state": {
       "layout": "IPY_MODEL_147955576a304045baa4140f2f8e7dc7",
       "style": "IPY_MODEL_a9030a6e5f90472cbc92f4dde5bca049",
       "value": " 1000/1000 [02:21&lt;00:00,  7.08it/s]"
      }
     },
     "44c4217215bb408a9adc1b62940c812a": {
      "model_module": "@jupyter-widgets/controls",
      "model_module_version": "1.5.0",
      "model_name": "HBoxModel",
      "state": {
       "children": [
        "IPY_MODEL_163ddf4a021e4401ac53a805deb69132",
        "IPY_MODEL_3c249d19fde54931b7b232397b58fda5"
       ],
       "layout": "IPY_MODEL_ef303140108f40d89f836cd562f7c2ef"
      }
     },
     "4588730875074491b556322080c241b6": {
      "model_module": "@jupyter-widgets/controls",
      "model_module_version": "1.5.0",
      "model_name": "FloatProgressModel",
      "state": {
       "bar_style": "success",
       "description": "100%",
       "layout": "IPY_MODEL_855d1ee303424829b78aac367d1bc93c",
       "max": 1000,
       "style": "IPY_MODEL_2704ad8d38234c14922b5226d832dff2",
       "value": 1000
      }
     },
     "490ab52aab0148e3adee3239954850dc": {
      "model_module": "@jupyter-widgets/controls",
      "model_module_version": "1.5.0",
      "model_name": "HBoxModel",
      "state": {
       "children": [
        "IPY_MODEL_177931247217492484eab074d3cec462",
        "IPY_MODEL_613549aa3b2b4f659cf6c7a6f556c794"
       ],
       "layout": "IPY_MODEL_b3b16fa90fd2417b9c2981c6c23383d3"
      }
     },
     "4979102eb85f405aafc4131bfc077f7c": {
      "model_module": "@jupyter-widgets/controls",
      "model_module_version": "1.5.0",
      "model_name": "FloatProgressModel",
      "state": {
       "bar_style": "success",
       "description": "100%",
       "layout": "IPY_MODEL_31805cd1779e4d01997a140b671344f5",
       "max": 1000,
       "style": "IPY_MODEL_db61fe5765004a53b4f769345f1fc94e",
       "value": 1000
      }
     },
     "4aca38f4867e4f1a9686398d782da663": {
      "model_module": "@jupyter-widgets/base",
      "model_module_version": "1.2.0",
      "model_name": "LayoutModel",
      "state": {}
     },
     "4b12c5616fdc438c900cf372f0ed0bfb": {
      "model_module": "@jupyter-widgets/controls",
      "model_module_version": "1.5.0",
      "model_name": "HBoxModel",
      "state": {
       "children": [
        "IPY_MODEL_9eec7157671b44da8111e73012d91ca4",
        "IPY_MODEL_fdd82de2f9e94113b31b8645a9e1b9ed"
       ],
       "layout": "IPY_MODEL_84aa21952f524e13ae82492410b60c5c"
      }
     },
     "4c22599b7ce640739c9dbb2865f7e0bc": {
      "model_module": "@jupyter-widgets/base",
      "model_module_version": "1.2.0",
      "model_name": "LayoutModel",
      "state": {}
     },
     "4d09aa985dbf4d71a2d50358f51aa541": {
      "model_module": "@jupyter-widgets/controls",
      "model_module_version": "1.5.0",
      "model_name": "HBoxModel",
      "state": {
       "children": [
        "IPY_MODEL_79c42e55d3a2432499272e04c0847047",
        "IPY_MODEL_43295af3355b4e89b1e891c3a628f2f7"
       ],
       "layout": "IPY_MODEL_7d74606cb96042f6b8971febdd79e0f8"
      }
     },
     "4ed6c2feaddc4ff48e492f0f9df88cb0": {
      "model_module": "@jupyter-widgets/controls",
      "model_module_version": "1.5.0",
      "model_name": "HBoxModel",
      "state": {
       "children": [
        "IPY_MODEL_7e9e77d641b4480091e9ee44d7e5f0bc",
        "IPY_MODEL_bd260e5282a34637bfa619f848929295"
       ],
       "layout": "IPY_MODEL_cb4122e1058e4db0a46bebf3ac12211f"
      }
     },
     "50e3b8197f224be29f3858986475399c": {
      "model_module": "@jupyter-widgets/base",
      "model_module_version": "1.2.0",
      "model_name": "LayoutModel",
      "state": {}
     },
     "52423b1669ba4d36b24087d5e264d406": {
      "model_module": "@jupyter-widgets/controls",
      "model_module_version": "1.5.0",
      "model_name": "ProgressStyleModel",
      "state": {
       "description_width": "initial"
      }
     },
     "54068ac8b3854274b8f8bbcd848cc89c": {
      "model_module": "@jupyter-widgets/controls",
      "model_module_version": "1.5.0",
      "model_name": "HTMLModel",
      "state": {
       "layout": "IPY_MODEL_b9cce9cb1d974335ab94dc44b2d8db45",
       "style": "IPY_MODEL_d0bd36cc266740b98aa6a2e447314a1c",
       "value": " 1000/1000 [04:33&lt;00:00,  3.66it/s]"
      }
     },
     "54ac8219ff69400dba59e1d0b25dbd50": {
      "model_module": "@jupyter-widgets/base",
      "model_module_version": "1.2.0",
      "model_name": "LayoutModel",
      "state": {}
     },
     "5558a5c9246f4c5f9270c8bbdd514b17": {
      "model_module": "@jupyter-widgets/base",
      "model_module_version": "1.2.0",
      "model_name": "LayoutModel",
      "state": {}
     },
     "55e1c58006b745feb608fed36c22d068": {
      "model_module": "@jupyter-widgets/base",
      "model_module_version": "1.2.0",
      "model_name": "LayoutModel",
      "state": {}
     },
     "57581dcb1e2949919c09901bd89c7d41": {
      "model_module": "@jupyter-widgets/controls",
      "model_module_version": "1.5.0",
      "model_name": "HTMLModel",
      "state": {
       "layout": "IPY_MODEL_9285647f70be4a91b2bb651e1946e16a",
       "style": "IPY_MODEL_e353f05b2cea445b9ed1f09c670b1416",
       "value": " 1000/1000 [02:45&lt;00:00,  6.06it/s]"
      }
     },
     "57b0504b39ba41ffb55a4b994f1182fb": {
      "model_module": "@jupyter-widgets/controls",
      "model_module_version": "1.5.0",
      "model_name": "DescriptionStyleModel",
      "state": {
       "description_width": ""
      }
     },
     "59865401ed9a4be4928aefc483adf06f": {
      "model_module": "@jupyter-widgets/controls",
      "model_module_version": "1.5.0",
      "model_name": "HBoxModel",
      "state": {
       "children": [
        "IPY_MODEL_9d5f819ebf8b4d539ec95e82e4459b8c",
        "IPY_MODEL_bf62894908914792ad35977a0c27cf6c"
       ],
       "layout": "IPY_MODEL_d8f66abf6c704c57857e849e4da40ba3"
      }
     },
     "59a7121bbecd447f8735ec2c6cae8773": {
      "model_module": "@jupyter-widgets/base",
      "model_module_version": "1.2.0",
      "model_name": "LayoutModel",
      "state": {}
     },
     "5ab78817761a42f69fff566a4eee8805": {
      "model_module": "@jupyter-widgets/base",
      "model_module_version": "1.2.0",
      "model_name": "LayoutModel",
      "state": {}
     },
     "5acc4ebd799d4a0388435dd7d20a87f5": {
      "model_module": "@jupyter-widgets/base",
      "model_module_version": "1.2.0",
      "model_name": "LayoutModel",
      "state": {}
     },
     "5b078ba2be6f4b1bb9d66e0923f1579f": {
      "model_module": "@jupyter-widgets/controls",
      "model_module_version": "1.5.0",
      "model_name": "ProgressStyleModel",
      "state": {
       "description_width": "initial"
      }
     },
     "5c4a3323956f45dc9faab3f5ae246ee9": {
      "model_module": "@jupyter-widgets/controls",
      "model_module_version": "1.5.0",
      "model_name": "ProgressStyleModel",
      "state": {
       "description_width": "initial"
      }
     },
     "5d4a505a40f24887b9d3d1ead8385bc1": {
      "model_module": "@jupyter-widgets/controls",
      "model_module_version": "1.5.0",
      "model_name": "DescriptionStyleModel",
      "state": {
       "description_width": ""
      }
     },
     "5f7974d55bc1423b90666381f5fe25cc": {
      "model_module": "@jupyter-widgets/base",
      "model_module_version": "1.2.0",
      "model_name": "LayoutModel",
      "state": {}
     },
     "5f897bebff024db78fe87ad6dd099129": {
      "model_module": "@jupyter-widgets/base",
      "model_module_version": "1.2.0",
      "model_name": "LayoutModel",
      "state": {}
     },
     "613549aa3b2b4f659cf6c7a6f556c794": {
      "model_module": "@jupyter-widgets/controls",
      "model_module_version": "1.5.0",
      "model_name": "HTMLModel",
      "state": {
       "layout": "IPY_MODEL_a77718d1697147bf9dc68f0b06c95511",
       "style": "IPY_MODEL_5d4a505a40f24887b9d3d1ead8385bc1",
       "value": " 1000/1000 [00:02&lt;00:00, 402.51it/s]"
      }
     },
     "6266c9e872fc4ee8bff29a3f606adc09": {
      "model_module": "@jupyter-widgets/base",
      "model_module_version": "1.2.0",
      "model_name": "LayoutModel",
      "state": {}
     },
     "659720b9f2c04dc59db164d482e00d1a": {
      "model_module": "@jupyter-widgets/controls",
      "model_module_version": "1.5.0",
      "model_name": "HBoxModel",
      "state": {
       "children": [
        "IPY_MODEL_a1c5e1ce96324b91a388ebd8427295cc",
        "IPY_MODEL_860dceb9770740c6af5a9013ab45fc6b"
       ],
       "layout": "IPY_MODEL_1120b36d5a17400f9a9071836ccd3e9a"
      }
     },
     "671afc3498c643e99d92a261b090ce1e": {
      "model_module": "@jupyter-widgets/controls",
      "model_module_version": "1.5.0",
      "model_name": "DescriptionStyleModel",
      "state": {
       "description_width": ""
      }
     },
     "675d3efb4b724a62ae69539c4d49a643": {
      "model_module": "@jupyter-widgets/controls",
      "model_module_version": "1.5.0",
      "model_name": "HTMLModel",
      "state": {
       "layout": "IPY_MODEL_89c68aa8abe24a09b4c78682bf2f6631",
       "style": "IPY_MODEL_8387f7cd954f4f1eb278a923f60a22a9",
       "value": " 1000/1000 [00:04&lt;00:00, 228.70it/s]"
      }
     },
     "68abe8010c0d4c0f8f8e81955b109106": {
      "model_module": "@jupyter-widgets/base",
      "model_module_version": "1.2.0",
      "model_name": "LayoutModel",
      "state": {}
     },
     "694f2f5ca6534657b2e5548a5eefe6c6": {
      "model_module": "@jupyter-widgets/base",
      "model_module_version": "1.2.0",
      "model_name": "LayoutModel",
      "state": {}
     },
     "6ab3e37814734097b912d1759b37cdf2": {
      "model_module": "@jupyter-widgets/controls",
      "model_module_version": "1.5.0",
      "model_name": "DescriptionStyleModel",
      "state": {
       "description_width": ""
      }
     },
     "6acfaf944a614cb9aa581df72dacda47": {
      "model_module": "@jupyter-widgets/controls",
      "model_module_version": "1.5.0",
      "model_name": "HBoxModel",
      "state": {
       "children": [
        "IPY_MODEL_d16d6888f44543e8a3509a618ace484c",
        "IPY_MODEL_9714fc1875a2479abe5190077f21fec9"
       ],
       "layout": "IPY_MODEL_877ff071e7bf4e618d22984f8c766db8"
      }
     },
     "6f5a2da928854593a291c791bf6a1a27": {
      "model_module": "@jupyter-widgets/controls",
      "model_module_version": "1.5.0",
      "model_name": "FloatProgressModel",
      "state": {
       "bar_style": "success",
       "description": "100%",
       "layout": "IPY_MODEL_15d310ec7a48488f8a4f54877d137e0d",
       "max": 1000,
       "style": "IPY_MODEL_b925a898cb654ceaaa3ed0a7c578bec3",
       "value": 1000
      }
     },
     "7078dde9635f470285a91d66d827d882": {
      "model_module": "@jupyter-widgets/controls",
      "model_module_version": "1.5.0",
      "model_name": "ProgressStyleModel",
      "state": {
       "description_width": "initial"
      }
     },
     "707b51a2b94644aea2b63539d088ab59": {
      "model_module": "@jupyter-widgets/base",
      "model_module_version": "1.2.0",
      "model_name": "LayoutModel",
      "state": {}
     },
     "71d41dbdf3254b2eb3f700816d595a9f": {
      "model_module": "@jupyter-widgets/controls",
      "model_module_version": "1.5.0",
      "model_name": "HTMLModel",
      "state": {
       "layout": "IPY_MODEL_50e3b8197f224be29f3858986475399c",
       "style": "IPY_MODEL_671afc3498c643e99d92a261b090ce1e",
       "value": " 1000/1000 [35:34&lt;00:00,  2.13s/it]"
      }
     },
     "72217fb65b5c4bf5921482e06b6b402c": {
      "model_module": "@jupyter-widgets/controls",
      "model_module_version": "1.5.0",
      "model_name": "HBoxModel",
      "state": {
       "children": [
        "IPY_MODEL_2fcf770aa06b47c3a4da31e7e808ae79",
        "IPY_MODEL_ba365595921c4976bb641ada179c35fb"
       ],
       "layout": "IPY_MODEL_087dee775d434d03b2cd68e3c910f66c"
      }
     },
     "74c6a0a82be448b9bd7f5bb213cd7ff7": {
      "model_module": "@jupyter-widgets/controls",
      "model_module_version": "1.5.0",
      "model_name": "HTMLModel",
      "state": {
       "layout": "IPY_MODEL_e1504d8b9890402299cc20e64234ebed",
       "style": "IPY_MODEL_8ed17903feab4fb9aae41940d223d819",
       "value": " 88/1000 [05:13&lt;54:09,  3.56s/it]"
      }
     },
     "776192d4e39c4aef8351152f1ae6750a": {
      "model_module": "@jupyter-widgets/controls",
      "model_module_version": "1.5.0",
      "model_name": "ProgressStyleModel",
      "state": {
       "description_width": "initial"
      }
     },
     "78052c8f972a4981a5fb42a3815b5e2b": {
      "model_module": "@jupyter-widgets/controls",
      "model_module_version": "1.5.0",
      "model_name": "FloatProgressModel",
      "state": {
       "bar_style": "success",
       "description": "100%",
       "layout": "IPY_MODEL_a2390f36bb8840f993a29ddf37b9ea74",
       "max": 1000,
       "style": "IPY_MODEL_776192d4e39c4aef8351152f1ae6750a",
       "value": 1000
      }
     },
     "78dd1242e0564ca085e6f9a8ea028f8e": {
      "model_module": "@jupyter-widgets/controls",
      "model_module_version": "1.5.0",
      "model_name": "HBoxModel",
      "state": {
       "children": [
        "IPY_MODEL_9ed8f09ba1004efb8511c73debb308f9",
        "IPY_MODEL_dcb7ef723ee34ef18b32e2749510efb6"
       ],
       "layout": "IPY_MODEL_4aca38f4867e4f1a9686398d782da663"
      }
     },
     "79c42e55d3a2432499272e04c0847047": {
      "model_module": "@jupyter-widgets/controls",
      "model_module_version": "1.5.0",
      "model_name": "FloatProgressModel",
      "state": {
       "bar_style": "success",
       "description": "100%",
       "layout": "IPY_MODEL_68abe8010c0d4c0f8f8e81955b109106",
       "max": 1000,
       "style": "IPY_MODEL_7078dde9635f470285a91d66d827d882",
       "value": 1000
      }
     },
     "7d5edf5609e24667ba616dc6b3053286": {
      "model_module": "@jupyter-widgets/controls",
      "model_module_version": "1.5.0",
      "model_name": "FloatProgressModel",
      "state": {
       "bar_style": "success",
       "description": "100%",
       "layout": "IPY_MODEL_3757c16d3b1a4c1d9e7a45057069b7e1",
       "max": 1000,
       "style": "IPY_MODEL_c691988347254a1090f20fa4746fc816",
       "value": 1000
      }
     },
     "7d74606cb96042f6b8971febdd79e0f8": {
      "model_module": "@jupyter-widgets/base",
      "model_module_version": "1.2.0",
      "model_name": "LayoutModel",
      "state": {}
     },
     "7e9e77d641b4480091e9ee44d7e5f0bc": {
      "model_module": "@jupyter-widgets/controls",
      "model_module_version": "1.5.0",
      "model_name": "FloatProgressModel",
      "state": {
       "bar_style": "success",
       "description": "100%",
       "layout": "IPY_MODEL_9c9e5ac4884d43ce8e3a128b1e80f88a",
       "max": 1000,
       "style": "IPY_MODEL_f51bcea81ee34e6fa7c3c5f438e9f172",
       "value": 1000
      }
     },
     "7f1527a519d54a7e818fbc0c5688f7b7": {
      "model_module": "@jupyter-widgets/controls",
      "model_module_version": "1.5.0",
      "model_name": "DescriptionStyleModel",
      "state": {
       "description_width": ""
      }
     },
     "8082d2b900d246a286a5cafc188a8b4b": {
      "model_module": "@jupyter-widgets/controls",
      "model_module_version": "1.5.0",
      "model_name": "FloatProgressModel",
      "state": {
       "bar_style": "danger",
       "description": "  0%",
       "layout": "IPY_MODEL_5ab78817761a42f69fff566a4eee8805",
       "max": 1000,
       "style": "IPY_MODEL_3efd75ef53514763b34b9003b0d39317"
      }
     },
     "80ab90e41704412a92865ee4b969b4d6": {
      "model_module": "@jupyter-widgets/controls",
      "model_module_version": "1.5.0",
      "model_name": "ProgressStyleModel",
      "state": {
       "description_width": "initial"
      }
     },
     "8387f7cd954f4f1eb278a923f60a22a9": {
      "model_module": "@jupyter-widgets/controls",
      "model_module_version": "1.5.0",
      "model_name": "DescriptionStyleModel",
      "state": {
       "description_width": ""
      }
     },
     "84aa21952f524e13ae82492410b60c5c": {
      "model_module": "@jupyter-widgets/base",
      "model_module_version": "1.2.0",
      "model_name": "LayoutModel",
      "state": {}
     },
     "84c488adf8484fa7a5822440dff2e5cc": {
      "model_module": "@jupyter-widgets/controls",
      "model_module_version": "1.5.0",
      "model_name": "HTMLModel",
      "state": {
       "layout": "IPY_MODEL_d55ae3691398485fb683ade3120292fc",
       "style": "IPY_MODEL_147620c2988d47968e8c2e5a55d0a09c",
       "value": " 1000/1000 [02:19&lt;00:00,  7.18it/s]"
      }
     },
     "855d1ee303424829b78aac367d1bc93c": {
      "model_module": "@jupyter-widgets/base",
      "model_module_version": "1.2.0",
      "model_name": "LayoutModel",
      "state": {}
     },
     "860dceb9770740c6af5a9013ab45fc6b": {
      "model_module": "@jupyter-widgets/controls",
      "model_module_version": "1.5.0",
      "model_name": "HTMLModel",
      "state": {
       "layout": "IPY_MODEL_e42bebf729e847e4a01c4ff08d9bc299",
       "style": "IPY_MODEL_a709a42bb4be4d758665cb800712ea2a",
       "value": " 1000/1000 [00:10&lt;00:00, 97.89it/s]"
      }
     },
     "86bbfdc0b9de49d3a20bea0e54f5068d": {
      "model_module": "@jupyter-widgets/base",
      "model_module_version": "1.2.0",
      "model_name": "LayoutModel",
      "state": {}
     },
     "877ff071e7bf4e618d22984f8c766db8": {
      "model_module": "@jupyter-widgets/base",
      "model_module_version": "1.2.0",
      "model_name": "LayoutModel",
      "state": {}
     },
     "89c68aa8abe24a09b4c78682bf2f6631": {
      "model_module": "@jupyter-widgets/base",
      "model_module_version": "1.2.0",
      "model_name": "LayoutModel",
      "state": {}
     },
     "8a0739d910c04240b7d21cd5ef3e2090": {
      "model_module": "@jupyter-widgets/base",
      "model_module_version": "1.2.0",
      "model_name": "LayoutModel",
      "state": {}
     },
     "8b85c96177364fccbd68d660fe140738": {
      "model_module": "@jupyter-widgets/base",
      "model_module_version": "1.2.0",
      "model_name": "LayoutModel",
      "state": {}
     },
     "8e108aca97a941c2a27bb95aae8cc0de": {
      "model_module": "@jupyter-widgets/controls",
      "model_module_version": "1.5.0",
      "model_name": "HBoxModel",
      "state": {
       "children": [
        "IPY_MODEL_f6f8a60f06954edfaf1728ebc47056a6",
        "IPY_MODEL_54068ac8b3854274b8f8bbcd848cc89c"
       ],
       "layout": "IPY_MODEL_e368c6c03e314dcfb5e43da18e5e112f"
      }
     },
     "8e5415086c37460888c61eda643bb468": {
      "model_module": "@jupyter-widgets/base",
      "model_module_version": "1.2.0",
      "model_name": "LayoutModel",
      "state": {}
     },
     "8ed17903feab4fb9aae41940d223d819": {
      "model_module": "@jupyter-widgets/controls",
      "model_module_version": "1.5.0",
      "model_name": "DescriptionStyleModel",
      "state": {
       "description_width": ""
      }
     },
     "8f43665f70fc4615b75be9241b6180f6": {
      "model_module": "@jupyter-widgets/controls",
      "model_module_version": "1.5.0",
      "model_name": "FloatProgressModel",
      "state": {
       "bar_style": "success",
       "description": "100%",
       "layout": "IPY_MODEL_c857445d0f6747c0bb5c96536236f886",
       "max": 1000,
       "style": "IPY_MODEL_3ddcc68e1b064d088de6231b7f0a19fc",
       "value": 1000
      }
     },
     "9285647f70be4a91b2bb651e1946e16a": {
      "model_module": "@jupyter-widgets/base",
      "model_module_version": "1.2.0",
      "model_name": "LayoutModel",
      "state": {}
     },
     "950d870f7a714ebfa1f8307100101cee": {
      "model_module": "@jupyter-widgets/controls",
      "model_module_version": "1.5.0",
      "model_name": "DescriptionStyleModel",
      "state": {
       "description_width": ""
      }
     },
     "96411df66288495f91a75db27b9712e3": {
      "model_module": "@jupyter-widgets/base",
      "model_module_version": "1.2.0",
      "model_name": "LayoutModel",
      "state": {}
     },
     "9714fc1875a2479abe5190077f21fec9": {
      "model_module": "@jupyter-widgets/controls",
      "model_module_version": "1.5.0",
      "model_name": "HTMLModel",
      "state": {
       "layout": "IPY_MODEL_5558a5c9246f4c5f9270c8bbdd514b17",
       "style": "IPY_MODEL_eb3e3c57b8a846fba5ca08d3989e14d1",
       "value": " 1000/1000 [00:09&lt;00:00, 101.70it/s]"
      }
     },
     "980b7b88948548b897e5fc6662f26a28": {
      "model_module": "@jupyter-widgets/controls",
      "model_module_version": "1.5.0",
      "model_name": "DescriptionStyleModel",
      "state": {
       "description_width": ""
      }
     },
     "99177ec9ca954024b2a64e0f9b8f9262": {
      "model_module": "@jupyter-widgets/controls",
      "model_module_version": "1.5.0",
      "model_name": "ProgressStyleModel",
      "state": {
       "description_width": "initial"
      }
     },
     "9a32ed68554d49c79d02a56fe12673c0": {
      "model_module": "@jupyter-widgets/controls",
      "model_module_version": "1.5.0",
      "model_name": "FloatProgressModel",
      "state": {
       "bar_style": "success",
       "description": "100%",
       "layout": "IPY_MODEL_c784622c751c4875a2987700c3015f71",
       "max": 1000,
       "style": "IPY_MODEL_1636027720d14c7d81472cea910597c3",
       "value": 1000
      }
     },
     "9c9e5ac4884d43ce8e3a128b1e80f88a": {
      "model_module": "@jupyter-widgets/base",
      "model_module_version": "1.2.0",
      "model_name": "LayoutModel",
      "state": {}
     },
     "9d5f819ebf8b4d539ec95e82e4459b8c": {
      "model_module": "@jupyter-widgets/controls",
      "model_module_version": "1.5.0",
      "model_name": "FloatProgressModel",
      "state": {
       "bar_style": "success",
       "description": "100%",
       "layout": "IPY_MODEL_4c22599b7ce640739c9dbb2865f7e0bc",
       "max": 1000,
       "style": "IPY_MODEL_52423b1669ba4d36b24087d5e264d406",
       "value": 1000
      }
     },
     "9e94e70fae24455ea7e5fd45a2c89bf0": {
      "model_module": "@jupyter-widgets/controls",
      "model_module_version": "1.5.0",
      "model_name": "DescriptionStyleModel",
      "state": {
       "description_width": ""
      }
     },
     "9ed8f09ba1004efb8511c73debb308f9": {
      "model_module": "@jupyter-widgets/controls",
      "model_module_version": "1.5.0",
      "model_name": "FloatProgressModel",
      "state": {
       "bar_style": "danger",
       "description": " 56%",
       "layout": "IPY_MODEL_5f897bebff024db78fe87ad6dd099129",
       "max": 1000,
       "style": "IPY_MODEL_5b078ba2be6f4b1bb9d66e0923f1579f",
       "value": 565
      }
     },
     "9eec7157671b44da8111e73012d91ca4": {
      "model_module": "@jupyter-widgets/controls",
      "model_module_version": "1.5.0",
      "model_name": "FloatProgressModel",
      "state": {
       "bar_style": "success",
       "description": "100%",
       "layout": "IPY_MODEL_59a7121bbecd447f8735ec2c6cae8773",
       "max": 1000,
       "style": "IPY_MODEL_80ab90e41704412a92865ee4b969b4d6",
       "value": 1000
      }
     },
     "a1c5e1ce96324b91a388ebd8427295cc": {
      "model_module": "@jupyter-widgets/controls",
      "model_module_version": "1.5.0",
      "model_name": "FloatProgressModel",
      "state": {
       "bar_style": "success",
       "description": "100%",
       "layout": "IPY_MODEL_d268f4f66abc4f999fc7754633075d57",
       "max": 1000,
       "style": "IPY_MODEL_d388f4384b544f11bcca5fd62a69641c",
       "value": 1000
      }
     },
     "a1c75ffb0a264b9ba34e966d027d1006": {
      "model_module": "@jupyter-widgets/controls",
      "model_module_version": "1.5.0",
      "model_name": "ProgressStyleModel",
      "state": {
       "description_width": "initial"
      }
     },
     "a2390f36bb8840f993a29ddf37b9ea74": {
      "model_module": "@jupyter-widgets/base",
      "model_module_version": "1.2.0",
      "model_name": "LayoutModel",
      "state": {}
     },
     "a2592eb4f3364ceeaf2ae8e9456f3f7d": {
      "model_module": "@jupyter-widgets/controls",
      "model_module_version": "1.5.0",
      "model_name": "DescriptionStyleModel",
      "state": {
       "description_width": ""
      }
     },
     "a5f308874c304844a514a3577f93d145": {
      "model_module": "@jupyter-widgets/controls",
      "model_module_version": "1.5.0",
      "model_name": "ProgressStyleModel",
      "state": {
       "description_width": "initial"
      }
     },
     "a709a42bb4be4d758665cb800712ea2a": {
      "model_module": "@jupyter-widgets/controls",
      "model_module_version": "1.5.0",
      "model_name": "DescriptionStyleModel",
      "state": {
       "description_width": ""
      }
     },
     "a77718d1697147bf9dc68f0b06c95511": {
      "model_module": "@jupyter-widgets/base",
      "model_module_version": "1.2.0",
      "model_name": "LayoutModel",
      "state": {}
     },
     "a85ceef4432a4b60885c453398aa4cd0": {
      "model_module": "@jupyter-widgets/controls",
      "model_module_version": "1.5.0",
      "model_name": "FloatProgressModel",
      "state": {
       "bar_style": "success",
       "description": "100%",
       "layout": "IPY_MODEL_0eacf3f8ca7c41a1a8e014e0b72dcf7f",
       "max": 1000,
       "style": "IPY_MODEL_f7909c08263349218b0d0a56e8d1b362",
       "value": 1000
      }
     },
     "a9030a6e5f90472cbc92f4dde5bca049": {
      "model_module": "@jupyter-widgets/controls",
      "model_module_version": "1.5.0",
      "model_name": "DescriptionStyleModel",
      "state": {
       "description_width": ""
      }
     },
     "a9b28e3d57b649c69716fef4c50370eb": {
      "model_module": "@jupyter-widgets/controls",
      "model_module_version": "1.5.0",
      "model_name": "ProgressStyleModel",
      "state": {
       "description_width": "initial"
      }
     },
     "ad795edb6f2a495c9ae93ca00ba65aec": {
      "model_module": "@jupyter-widgets/controls",
      "model_module_version": "1.5.0",
      "model_name": "HBoxModel",
      "state": {
       "children": [
        "IPY_MODEL_ed1a61db43bc48ab8e9c59268b5b3241",
        "IPY_MODEL_c5730fb34fb24eed9b9d84d96c18ff8e"
       ],
       "layout": "IPY_MODEL_b23504b74eb14dcead04b852ac73ce57"
      }
     },
     "af7bf77c92b24bbe8e19add3b243cd5e": {
      "model_module": "@jupyter-widgets/base",
      "model_module_version": "1.2.0",
      "model_name": "LayoutModel",
      "state": {}
     },
     "b23504b74eb14dcead04b852ac73ce57": {
      "model_module": "@jupyter-widgets/base",
      "model_module_version": "1.2.0",
      "model_name": "LayoutModel",
      "state": {}
     },
     "b3b16fa90fd2417b9c2981c6c23383d3": {
      "model_module": "@jupyter-widgets/base",
      "model_module_version": "1.2.0",
      "model_name": "LayoutModel",
      "state": {}
     },
     "b426a43cb52941d6aaf189e1098dd6bc": {
      "model_module": "@jupyter-widgets/controls",
      "model_module_version": "1.5.0",
      "model_name": "HTMLModel",
      "state": {
       "layout": "IPY_MODEL_707b51a2b94644aea2b63539d088ab59",
       "style": "IPY_MODEL_390a51fd05ef46ebaaa266a53f962220",
       "value": " 1000/1000 [00:10&lt;00:00, 99.98it/s]"
      }
     },
     "b6182c18920046b9a74388ae42554b8b": {
      "model_module": "@jupyter-widgets/controls",
      "model_module_version": "1.5.0",
      "model_name": "HBoxModel",
      "state": {
       "children": [
        "IPY_MODEL_d8a18fe053304231997c828f3ba0202e",
        "IPY_MODEL_f76b7921789a4f5d81bacf014e0c76b0"
       ],
       "layout": "IPY_MODEL_54ac8219ff69400dba59e1d0b25dbd50"
      }
     },
     "b713a0a11b0746a8b0dc5fe5256acd74": {
      "model_module": "@jupyter-widgets/base",
      "model_module_version": "1.2.0",
      "model_name": "LayoutModel",
      "state": {}
     },
     "b740e204273a413eb68f9ef308d2878f": {
      "model_module": "@jupyter-widgets/controls",
      "model_module_version": "1.5.0",
      "model_name": "HBoxModel",
      "state": {
       "children": [
        "IPY_MODEL_a85ceef4432a4b60885c453398aa4cd0",
        "IPY_MODEL_71d41dbdf3254b2eb3f700816d595a9f"
       ],
       "layout": "IPY_MODEL_bfc6ef40bfc7488f842f832eeaa85079"
      }
     },
     "b759dd1b7f2646e99e9a5e6870b8ed6b": {
      "model_module": "@jupyter-widgets/controls",
      "model_module_version": "1.5.0",
      "model_name": "ProgressStyleModel",
      "state": {
       "description_width": "initial"
      }
     },
     "b7fd7b81eae34e8f84f0196b56693130": {
      "model_module": "@jupyter-widgets/controls",
      "model_module_version": "1.5.0",
      "model_name": "HTMLModel",
      "state": {
       "layout": "IPY_MODEL_f8449e3b4a46490cb98f46f384dc9e68",
       "style": "IPY_MODEL_ba1cc3bd1ee549c7bdcedbe866a49b57",
       "value": " 1000/1000 [00:06&lt;00:00, 160.22it/s]"
      }
     },
     "b822f10174e0438b8be173cb1e50d0a4": {
      "model_module": "@jupyter-widgets/controls",
      "model_module_version": "1.5.0",
      "model_name": "FloatProgressModel",
      "state": {
       "bar_style": "success",
       "description": "100%",
       "layout": "IPY_MODEL_5acc4ebd799d4a0388435dd7d20a87f5",
       "max": 1000,
       "style": "IPY_MODEL_e2acfde0ae0349bc98166e0b6d835bdb",
       "value": 1000
      }
     },
     "b925a898cb654ceaaa3ed0a7c578bec3": {
      "model_module": "@jupyter-widgets/controls",
      "model_module_version": "1.5.0",
      "model_name": "ProgressStyleModel",
      "state": {
       "description_width": "initial"
      }
     },
     "b9cce9cb1d974335ab94dc44b2d8db45": {
      "model_module": "@jupyter-widgets/base",
      "model_module_version": "1.2.0",
      "model_name": "LayoutModel",
      "state": {}
     },
     "ba1cc3bd1ee549c7bdcedbe866a49b57": {
      "model_module": "@jupyter-widgets/controls",
      "model_module_version": "1.5.0",
      "model_name": "DescriptionStyleModel",
      "state": {
       "description_width": ""
      }
     },
     "ba365595921c4976bb641ada179c35fb": {
      "model_module": "@jupyter-widgets/controls",
      "model_module_version": "1.5.0",
      "model_name": "HTMLModel",
      "state": {
       "layout": "IPY_MODEL_dbeceab79c2b4803a38018e0b6b3fb08",
       "style": "IPY_MODEL_9e94e70fae24455ea7e5fd45a2c89bf0",
       "value": " 1000/1000 [00:11&lt;00:00, 84.58it/s]"
      }
     },
     "bae3d1083f824c68a97e7cf41a71769a": {
      "model_module": "@jupyter-widgets/controls",
      "model_module_version": "1.5.0",
      "model_name": "HBoxModel",
      "state": {
       "children": [
        "IPY_MODEL_78052c8f972a4981a5fb42a3815b5e2b",
        "IPY_MODEL_1fcf006501074ef7b4124192b3e436b1"
       ],
       "layout": "IPY_MODEL_f587799109a348308bf651ecac2bc643"
      }
     },
     "bd097c2a95224bb7a21f7c4b81292736": {
      "model_module": "@jupyter-widgets/controls",
      "model_module_version": "1.5.0",
      "model_name": "HTMLModel",
      "state": {
       "layout": "IPY_MODEL_365eabf302a04abaaf38678b8c1a82fc",
       "style": "IPY_MODEL_7f1527a519d54a7e818fbc0c5688f7b7",
       "value": " 1000/1000 [1:12:05&lt;00:00,  4.33s/it]"
      }
     },
     "bd260e5282a34637bfa619f848929295": {
      "model_module": "@jupyter-widgets/controls",
      "model_module_version": "1.5.0",
      "model_name": "HTMLModel",
      "state": {
       "layout": "IPY_MODEL_ce697778af2a40b8916a3ff7abbf7888",
       "style": "IPY_MODEL_6ab3e37814734097b912d1759b37cdf2",
       "value": " 1000/1000 [00:09&lt;00:00, 110.68it/s]"
      }
     },
     "bf62894908914792ad35977a0c27cf6c": {
      "model_module": "@jupyter-widgets/controls",
      "model_module_version": "1.5.0",
      "model_name": "HTMLModel",
      "state": {
       "layout": "IPY_MODEL_b713a0a11b0746a8b0dc5fe5256acd74",
       "style": "IPY_MODEL_136cc89780a94512a0aa27524f29f95c",
       "value": " 1000/1000 [00:10&lt;00:00, 94.53it/s]"
      }
     },
     "bfc6ef40bfc7488f842f832eeaa85079": {
      "model_module": "@jupyter-widgets/base",
      "model_module_version": "1.2.0",
      "model_name": "LayoutModel",
      "state": {}
     },
     "c1800ea3c67347a087d7aa5cc3d0243d": {
      "model_module": "@jupyter-widgets/controls",
      "model_module_version": "1.5.0",
      "model_name": "HTMLModel",
      "state": {
       "layout": "IPY_MODEL_55e1c58006b745feb608fed36c22d068",
       "style": "IPY_MODEL_57b0504b39ba41ffb55a4b994f1182fb",
       "value": " 1000/1000 [02:20&lt;00:00,  7.12it/s]"
      }
     },
     "c1819f5a28c14f759de5e7f6f3595409": {
      "model_module": "@jupyter-widgets/controls",
      "model_module_version": "1.5.0",
      "model_name": "DescriptionStyleModel",
      "state": {
       "description_width": ""
      }
     },
     "c3065e0720e04026be45ece4ba275d5e": {
      "model_module": "@jupyter-widgets/controls",
      "model_module_version": "1.5.0",
      "model_name": "HBoxModel",
      "state": {
       "children": [
        "IPY_MODEL_8082d2b900d246a286a5cafc188a8b4b",
        "IPY_MODEL_e71956a05a9c458882550c59a9fc1f68"
       ],
       "layout": "IPY_MODEL_eeb8614ac6d64276b1ec3a6f86f93644"
      }
     },
     "c5730fb34fb24eed9b9d84d96c18ff8e": {
      "model_module": "@jupyter-widgets/controls",
      "model_module_version": "1.5.0",
      "model_name": "HTMLModel",
      "state": {
       "layout": "IPY_MODEL_c69f40c7d3914ac38e08834c789d0347",
       "style": "IPY_MODEL_a2592eb4f3364ceeaf2ae8e9456f3f7d",
       "value": " 1000/1000 [00:03&lt;00:00, 292.60it/s]"
      }
     },
     "c5f117cc93314abc8475fe347e4fc490": {
      "model_module": "@jupyter-widgets/controls",
      "model_module_version": "1.5.0",
      "model_name": "FloatProgressModel",
      "state": {
       "bar_style": "success",
       "description": "100%",
       "layout": "IPY_MODEL_8b85c96177364fccbd68d660fe140738",
       "max": 1000,
       "style": "IPY_MODEL_a5f308874c304844a514a3577f93d145",
       "value": 1000
      }
     },
     "c691988347254a1090f20fa4746fc816": {
      "model_module": "@jupyter-widgets/controls",
      "model_module_version": "1.5.0",
      "model_name": "ProgressStyleModel",
      "state": {
       "description_width": "initial"
      }
     },
     "c69f40c7d3914ac38e08834c789d0347": {
      "model_module": "@jupyter-widgets/base",
      "model_module_version": "1.2.0",
      "model_name": "LayoutModel",
      "state": {}
     },
     "c6d2cc7117774af6be5c11bf3f4e3ee4": {
      "model_module": "@jupyter-widgets/controls",
      "model_module_version": "1.5.0",
      "model_name": "HTMLModel",
      "state": {
       "layout": "IPY_MODEL_fffa10e3cb7240b0ba7b95e31b5d4f68",
       "style": "IPY_MODEL_950d870f7a714ebfa1f8307100101cee",
       "value": " 1000/1000 [00:10&lt;00:00, 93.02it/s]"
      }
     },
     "c784622c751c4875a2987700c3015f71": {
      "model_module": "@jupyter-widgets/base",
      "model_module_version": "1.2.0",
      "model_name": "LayoutModel",
      "state": {}
     },
     "c857445d0f6747c0bb5c96536236f886": {
      "model_module": "@jupyter-widgets/base",
      "model_module_version": "1.2.0",
      "model_name": "LayoutModel",
      "state": {}
     },
     "cb4122e1058e4db0a46bebf3ac12211f": {
      "model_module": "@jupyter-widgets/base",
      "model_module_version": "1.2.0",
      "model_name": "LayoutModel",
      "state": {}
     },
     "cb775a2e3e7a474e947206361dcf6e80": {
      "model_module": "@jupyter-widgets/base",
      "model_module_version": "1.2.0",
      "model_name": "LayoutModel",
      "state": {}
     },
     "ce697778af2a40b8916a3ff7abbf7888": {
      "model_module": "@jupyter-widgets/base",
      "model_module_version": "1.2.0",
      "model_name": "LayoutModel",
      "state": {}
     },
     "d083679321af4c37bb2ed3c68350536e": {
      "model_module": "@jupyter-widgets/base",
      "model_module_version": "1.2.0",
      "model_name": "LayoutModel",
      "state": {}
     },
     "d08ff2f4f65f455c9afb22e45d77c6a2": {
      "model_module": "@jupyter-widgets/base",
      "model_module_version": "1.2.0",
      "model_name": "LayoutModel",
      "state": {}
     },
     "d0bd36cc266740b98aa6a2e447314a1c": {
      "model_module": "@jupyter-widgets/controls",
      "model_module_version": "1.5.0",
      "model_name": "DescriptionStyleModel",
      "state": {
       "description_width": ""
      }
     },
     "d16d6888f44543e8a3509a618ace484c": {
      "model_module": "@jupyter-widgets/controls",
      "model_module_version": "1.5.0",
      "model_name": "FloatProgressModel",
      "state": {
       "bar_style": "success",
       "description": "100%",
       "layout": "IPY_MODEL_86bbfdc0b9de49d3a20bea0e54f5068d",
       "max": 1000,
       "style": "IPY_MODEL_04d67f4120444b6192533ef7725b17fe",
       "value": 1000
      }
     },
     "d268f4f66abc4f999fc7754633075d57": {
      "model_module": "@jupyter-widgets/base",
      "model_module_version": "1.2.0",
      "model_name": "LayoutModel",
      "state": {}
     },
     "d388f4384b544f11bcca5fd62a69641c": {
      "model_module": "@jupyter-widgets/controls",
      "model_module_version": "1.5.0",
      "model_name": "ProgressStyleModel",
      "state": {
       "description_width": "initial"
      }
     },
     "d55ae3691398485fb683ade3120292fc": {
      "model_module": "@jupyter-widgets/base",
      "model_module_version": "1.2.0",
      "model_name": "LayoutModel",
      "state": {}
     },
     "d69002e94f394d19a5caa654ab10a848": {
      "model_module": "@jupyter-widgets/base",
      "model_module_version": "1.2.0",
      "model_name": "LayoutModel",
      "state": {}
     },
     "d8382721fb694c5e98eb1d4528f5b84f": {
      "model_module": "@jupyter-widgets/base",
      "model_module_version": "1.2.0",
      "model_name": "LayoutModel",
      "state": {}
     },
     "d8a18fe053304231997c828f3ba0202e": {
      "model_module": "@jupyter-widgets/controls",
      "model_module_version": "1.5.0",
      "model_name": "FloatProgressModel",
      "state": {
       "bar_style": "success",
       "description": "100%",
       "layout": "IPY_MODEL_d083679321af4c37bb2ed3c68350536e",
       "max": 1000,
       "style": "IPY_MODEL_5c4a3323956f45dc9faab3f5ae246ee9",
       "value": 1000
      }
     },
     "d8f66abf6c704c57857e849e4da40ba3": {
      "model_module": "@jupyter-widgets/base",
      "model_module_version": "1.2.0",
      "model_name": "LayoutModel",
      "state": {}
     },
     "d952ea49328a4bc99e7acf9f2751151e": {
      "model_module": "@jupyter-widgets/base",
      "model_module_version": "1.2.0",
      "model_name": "LayoutModel",
      "state": {}
     },
     "da6d914a64f74c02994cb2162964073e": {
      "model_module": "@jupyter-widgets/base",
      "model_module_version": "1.2.0",
      "model_name": "LayoutModel",
      "state": {}
     },
     "db61fe5765004a53b4f769345f1fc94e": {
      "model_module": "@jupyter-widgets/controls",
      "model_module_version": "1.5.0",
      "model_name": "ProgressStyleModel",
      "state": {
       "description_width": "initial"
      }
     },
     "dbeceab79c2b4803a38018e0b6b3fb08": {
      "model_module": "@jupyter-widgets/base",
      "model_module_version": "1.2.0",
      "model_name": "LayoutModel",
      "state": {}
     },
     "dcb7ef723ee34ef18b32e2749510efb6": {
      "model_module": "@jupyter-widgets/controls",
      "model_module_version": "1.5.0",
      "model_name": "HTMLModel",
      "state": {
       "layout": "IPY_MODEL_af7bf77c92b24bbe8e19add3b243cd5e",
       "style": "IPY_MODEL_c1819f5a28c14f759de5e7f6f3595409",
       "value": " 565/1000 [00:27&lt;00:21, 20.20it/s]"
      }
     },
     "e1504d8b9890402299cc20e64234ebed": {
      "model_module": "@jupyter-widgets/base",
      "model_module_version": "1.2.0",
      "model_name": "LayoutModel",
      "state": {}
     },
     "e21c39f9ff594cfcbb8b18d6116c6cc5": {
      "model_module": "@jupyter-widgets/controls",
      "model_module_version": "1.5.0",
      "model_name": "HBoxModel",
      "state": {
       "children": [
        "IPY_MODEL_e6dfeca16737433db2109980d8c6a6fd",
        "IPY_MODEL_74c6a0a82be448b9bd7f5bb213cd7ff7"
       ],
       "layout": "IPY_MODEL_f2031bb4d4e9409e8bf6308d1ef20822"
      }
     },
     "e2acfde0ae0349bc98166e0b6d835bdb": {
      "model_module": "@jupyter-widgets/controls",
      "model_module_version": "1.5.0",
      "model_name": "ProgressStyleModel",
      "state": {
       "description_width": "initial"
      }
     },
     "e32e5592830640dfbba1107b69d6923d": {
      "model_module": "@jupyter-widgets/controls",
      "model_module_version": "1.5.0",
      "model_name": "DescriptionStyleModel",
      "state": {
       "description_width": ""
      }
     },
     "e353f05b2cea445b9ed1f09c670b1416": {
      "model_module": "@jupyter-widgets/controls",
      "model_module_version": "1.5.0",
      "model_name": "DescriptionStyleModel",
      "state": {
       "description_width": ""
      }
     },
     "e3558b03dc38444eabe481e850311499": {
      "model_module": "@jupyter-widgets/base",
      "model_module_version": "1.2.0",
      "model_name": "LayoutModel",
      "state": {}
     },
     "e368c6c03e314dcfb5e43da18e5e112f": {
      "model_module": "@jupyter-widgets/base",
      "model_module_version": "1.2.0",
      "model_name": "LayoutModel",
      "state": {}
     },
     "e42bebf729e847e4a01c4ff08d9bc299": {
      "model_module": "@jupyter-widgets/base",
      "model_module_version": "1.2.0",
      "model_name": "LayoutModel",
      "state": {}
     },
     "e6dfeca16737433db2109980d8c6a6fd": {
      "model_module": "@jupyter-widgets/controls",
      "model_module_version": "1.5.0",
      "model_name": "FloatProgressModel",
      "state": {
       "bar_style": "danger",
       "description": "  9%",
       "layout": "IPY_MODEL_96411df66288495f91a75db27b9712e3",
       "max": 1000,
       "style": "IPY_MODEL_a1c75ffb0a264b9ba34e966d027d1006",
       "value": 88
      }
     },
     "e71956a05a9c458882550c59a9fc1f68": {
      "model_module": "@jupyter-widgets/controls",
      "model_module_version": "1.5.0",
      "model_name": "HTMLModel",
      "state": {
       "layout": "IPY_MODEL_5f7974d55bc1423b90666381f5fe25cc",
       "style": "IPY_MODEL_e32e5592830640dfbba1107b69d6923d",
       "value": " 0/1000 [12:11&lt;?, ?it/s]"
      }
     },
     "e71e08e804ad4c029e5590e55badbe3f": {
      "model_module": "@jupyter-widgets/controls",
      "model_module_version": "1.5.0",
      "model_name": "ProgressStyleModel",
      "state": {
       "description_width": "initial"
      }
     },
     "e831021d0cf44fe78338212b4b182d48": {
      "model_module": "@jupyter-widgets/controls",
      "model_module_version": "1.5.0",
      "model_name": "ProgressStyleModel",
      "state": {
       "description_width": "initial"
      }
     },
     "e8cdd72306374d4aa9143d2481c78321": {
      "model_module": "@jupyter-widgets/controls",
      "model_module_version": "1.5.0",
      "model_name": "HBoxModel",
      "state": {
       "children": [
        "IPY_MODEL_7d5edf5609e24667ba616dc6b3053286",
        "IPY_MODEL_675d3efb4b724a62ae69539c4d49a643"
       ],
       "layout": "IPY_MODEL_0d3ee585ef324177b08bc741fcc3e0c9"
      }
     },
     "eb3e3c57b8a846fba5ca08d3989e14d1": {
      "model_module": "@jupyter-widgets/controls",
      "model_module_version": "1.5.0",
      "model_name": "DescriptionStyleModel",
      "state": {
       "description_width": ""
      }
     },
     "ed1a61db43bc48ab8e9c59268b5b3241": {
      "model_module": "@jupyter-widgets/controls",
      "model_module_version": "1.5.0",
      "model_name": "FloatProgressModel",
      "state": {
       "bar_style": "success",
       "description": "100%",
       "layout": "IPY_MODEL_d8382721fb694c5e98eb1d4528f5b84f",
       "max": 1000,
       "style": "IPY_MODEL_a9b28e3d57b649c69716fef4c50370eb",
       "value": 1000
      }
     },
     "eeb8614ac6d64276b1ec3a6f86f93644": {
      "model_module": "@jupyter-widgets/base",
      "model_module_version": "1.2.0",
      "model_name": "LayoutModel",
      "state": {}
     },
     "ef303140108f40d89f836cd562f7c2ef": {
      "model_module": "@jupyter-widgets/base",
      "model_module_version": "1.2.0",
      "model_name": "LayoutModel",
      "state": {}
     },
     "f033498b90514d098406291c1fab8c48": {
      "model_module": "@jupyter-widgets/controls",
      "model_module_version": "1.5.0",
      "model_name": "HBoxModel",
      "state": {
       "children": [
        "IPY_MODEL_4979102eb85f405aafc4131bfc077f7c",
        "IPY_MODEL_b7fd7b81eae34e8f84f0196b56693130"
       ],
       "layout": "IPY_MODEL_da6d914a64f74c02994cb2162964073e"
      }
     },
     "f13d63203bdc46e8a583ec04e820eb69": {
      "model_module": "@jupyter-widgets/base",
      "model_module_version": "1.2.0",
      "model_name": "LayoutModel",
      "state": {}
     },
     "f2031bb4d4e9409e8bf6308d1ef20822": {
      "model_module": "@jupyter-widgets/base",
      "model_module_version": "1.2.0",
      "model_name": "LayoutModel",
      "state": {}
     },
     "f48480c7fd5644bc81d4ecfc53eb4286": {
      "model_module": "@jupyter-widgets/base",
      "model_module_version": "1.2.0",
      "model_name": "LayoutModel",
      "state": {}
     },
     "f51bcea81ee34e6fa7c3c5f438e9f172": {
      "model_module": "@jupyter-widgets/controls",
      "model_module_version": "1.5.0",
      "model_name": "ProgressStyleModel",
      "state": {
       "description_width": "initial"
      }
     },
     "f587799109a348308bf651ecac2bc643": {
      "model_module": "@jupyter-widgets/base",
      "model_module_version": "1.2.0",
      "model_name": "LayoutModel",
      "state": {}
     },
     "f6f8a60f06954edfaf1728ebc47056a6": {
      "model_module": "@jupyter-widgets/controls",
      "model_module_version": "1.5.0",
      "model_name": "FloatProgressModel",
      "state": {
       "bar_style": "success",
       "description": "100%",
       "layout": "IPY_MODEL_694f2f5ca6534657b2e5548a5eefe6c6",
       "max": 1000,
       "style": "IPY_MODEL_99177ec9ca954024b2a64e0f9b8f9262",
       "value": 1000
      }
     },
     "f76b7921789a4f5d81bacf014e0c76b0": {
      "model_module": "@jupyter-widgets/controls",
      "model_module_version": "1.5.0",
      "model_name": "HTMLModel",
      "state": {
       "layout": "IPY_MODEL_6266c9e872fc4ee8bff29a3f606adc09",
       "style": "IPY_MODEL_1ef0303c57df4d54ab2bbda8beafb2e5",
       "value": " 1000/1000 [02:29&lt;00:00,  6.68it/s]"
      }
     },
     "f7909c08263349218b0d0a56e8d1b362": {
      "model_module": "@jupyter-widgets/controls",
      "model_module_version": "1.5.0",
      "model_name": "ProgressStyleModel",
      "state": {
       "description_width": "initial"
      }
     },
     "f8449e3b4a46490cb98f46f384dc9e68": {
      "model_module": "@jupyter-widgets/base",
      "model_module_version": "1.2.0",
      "model_name": "LayoutModel",
      "state": {}
     },
     "fc62ae28ae764ebaa39d3ec5dad6ba75": {
      "model_module": "@jupyter-widgets/base",
      "model_module_version": "1.2.0",
      "model_name": "LayoutModel",
      "state": {}
     },
     "fdd82de2f9e94113b31b8645a9e1b9ed": {
      "model_module": "@jupyter-widgets/controls",
      "model_module_version": "1.5.0",
      "model_name": "HTMLModel",
      "state": {
       "layout": "IPY_MODEL_026833ebc3d847e18fda2641adee099d",
       "style": "IPY_MODEL_980b7b88948548b897e5fc6662f26a28",
       "value": " 1000/1000 [00:01&lt;00:00, 644.73it/s]"
      }
     },
     "fffa10e3cb7240b0ba7b95e31b5d4f68": {
      "model_module": "@jupyter-widgets/base",
      "model_module_version": "1.2.0",
      "model_name": "LayoutModel",
      "state": {}
     }
    },
    "version_major": 2,
    "version_minor": 0
   }
  }
 },
 "nbformat": 4,
 "nbformat_minor": 4
}
